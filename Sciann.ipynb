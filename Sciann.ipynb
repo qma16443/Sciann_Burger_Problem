{
  "nbformat": 4,
  "nbformat_minor": 0,
  "metadata": {
    "colab": {
      "name": "Sciann.ipynb",
      "provenance": []
    },
    "kernelspec": {
      "name": "python3",
      "display_name": "Python 3"
    },
    "language_info": {
      "name": "python"
    },
    "accelerator": "GPU"
  },
  "cells": [
    {
      "cell_type": "code",
      "execution_count": null,
      "metadata": {
        "id": "somyDDLYz5sk"
      },
      "outputs": [],
      "source": [
        "!pip install sciann"
      ]
    },
    {
      "cell_type": "code",
      "source": [
        "#Example\n",
        "import numpy as np\n",
        "from sciann import Variable, Functional, SciModel\n",
        "from sciann.constraints import Data\n",
        "\n",
        "# Synthetic data generated from sin function over [0, 2pi]\n",
        "x_true = np.linspace(0, np.pi*2, 10000)\n",
        "y_true = np.sin(x_true)\n",
        "\n",
        "# The network inputs should be defined with Variable. \n",
        "x = Variable('x', dtype='float32')\n",
        "# Each network is defined by Functional. The Functional class is designed to allow users \n",
        "#to design complex networks with a few lines of code.\n",
        "y = Functional('y', x, [10, 10, 10], activation='tanh')\n",
        "# The training data is a condition (constraint) on the model. =>outputs\n",
        "c1 = Data(y)\n",
        "# The model is formed with input `x` and condition `c1`.\n",
        "model = SciModel(x, c1)\n",
        "\n",
        "# Training: .solve runs the optimization and finds the parameters. \n",
        "model.train(x_true, y_true, batch_size=32, epochs=100)\n",
        "\n",
        "# used to evaluate the model after the training. \n",
        "y_pred = model.predict(x_true)"
      ],
      "metadata": {
        "id": "NUDt8nT_0Op8"
      },
      "execution_count": null,
      "outputs": []
    },
    {
      "cell_type": "markdown",
      "source": [
        "# Burger Problem\n"
      ],
      "metadata": {
        "id": "cZFvLbRPZZ61"
      }
    },
    {
      "cell_type": "markdown",
      "source": [
        "The governing equation is: \n",
        "$$\n",
        "  u_{,t} + u u_{,x} - (0.01 / \\pi) u_{,xx} = 0, \\quad t \\in [0, 1], \\quad x \\in [-1,1]\n",
        "$$\n",
        "subjected to \n",
        "$$\n",
        "u(t=0, x) = -\\sin(\\pi x), \\quad u(t, x=\\pm 1) = 0\n",
        "$$\n",
        "\n",
        "The objective is to solve this equation with PINN. "
      ],
      "metadata": {
        "id": "fwzboxnVa0VR"
      }
    },
    {
      "cell_type": "markdown",
      "source": [
        "##1. Setup Variable"
      ],
      "metadata": {
        "id": "FOwcGGrAbOZT"
      }
    },
    {
      "cell_type": "code",
      "source": [
        "x = sn.Variable('x')\n",
        "t = sn.Variable('t')\n",
        "u = sn.Functional('u', [t,x], 8*[20], 'tanh')"
      ],
      "metadata": {
        "id": "iOk3ikGuZe5C"
      },
      "execution_count": 7,
      "outputs": []
    },
    {
      "cell_type": "code",
      "source": [
        "from numpy import pi\n",
        "from sciann.utils.math import diff, sign, sin"
      ],
      "metadata": {
        "id": "HLyHD7u9Zipa"
      },
      "execution_count": 8,
      "outputs": []
    },
    {
      "cell_type": "markdown",
      "source": [
        "Input variables are $(t, x)$ and targets are:\n",
        "\n",
        "*   $L_1 : ~~ u_{,t} + u u_{,x} - (0.01 / \\pi) u_{,xx}$"
      ],
      "metadata": {
        "id": "3DEzNrvldbnU"
      }
    },
    {
      "cell_type": "code",
      "source": [
        "L1 = diff(u, t) + u*diff(u,x) - (0.01/pi)*diff(u, x, order=2)"
      ],
      "metadata": {
        "id": "umsP3pM3Zjnp"
      },
      "execution_count": 9,
      "outputs": []
    },
    {
      "cell_type": "code",
      "source": [
        "TOL = 0.001\n",
        "#Three Boundary conditions are:\n",
        "C1 = (1-sign(t - TOL)) * (u + sin(pi*x))\n",
        "C2 = (1-sign(x - (-1+TOL))) * (u)\n",
        "C3 = (1+sign(x - ( 1-TOL))) * (u)"
      ],
      "metadata": {
        "id": "iCRT7txCZnm3"
      },
      "execution_count": 10,
      "outputs": []
    },
    {
      "cell_type": "code",
      "source": [
        "'''\n",
        "parameter:\n",
        "inputs = [x, t]\n",
        "targets = [L1, C1, C2, C3]\n",
        "'''\n",
        "m = sn.SciModel([x, t], [L1, C1, C2, C3],plot_to_file='Model.png')"
      ],
      "metadata": {
        "id": "6iUllDi1ZqNR"
      },
      "execution_count": 11,
      "outputs": []
    },
    {
      "cell_type": "code",
      "source": [
        "x_data, t_data = np.meshgrid(\n",
        "    np.linspace(-1, 1, 100), \n",
        "    np.linspace(0, 1, 100)\n",
        ")"
      ],
      "metadata": {
        "id": "mtX5vpucZylu"
      },
      "execution_count": 12,
      "outputs": []
    },
    {
      "cell_type": "markdown",
      "source": [
        "##2. Training"
      ],
      "metadata": {
        "id": "ucWFpDcgqPsx"
      }
    },
    {
      "cell_type": "code",
      "source": [
        "h = m.train([x_data, t_data], 4*['zero'], learning_rate=0.002, epochs=1000, verbose=0)\n",
        "#save model weights to the current path\n",
        "model.save_weights('trained_Burger_Probelm.hdf5')"
      ],
      "metadata": {
        "id": "RvGdaYt9Z1Q0",
        "colab": {
          "base_uri": "https://localhost:8080/"
        },
        "outputId": "fa6b1d4b-4d53-4872-ab0a-8544645c9dd4"
      },
      "execution_count": 28,
      "outputs": [
        {
          "output_type": "stream",
          "name": "stdout",
          "text": [
            "\n",
            "Total samples: 10000 \n",
            "Batch size: 64 \n",
            "Total batches: 157 \n",
            "\n",
            "\n",
            "Epoch 00130: ReduceLROnPlateau reducing learning rate to 0.0010000000474974513.\n",
            "\n",
            "Epoch 00495: ReduceLROnPlateau reducing learning rate to 0.0005000000237487257.\n",
            "\n",
            "Epoch 00838: ReduceLROnPlateau reducing learning rate to 0.0002500000118743628.\n"
          ]
        }
      ]
    },
    {
      "cell_type": "code",
      "source": [
        "plt.semilogy(h.history['loss'])\n",
        "plt.xlabel('epochs')\n",
        "plt.ylabel('loss')"
      ],
      "metadata": {
        "colab": {
          "base_uri": "https://localhost:8080/",
          "height": 296
        },
        "id": "1WXbPw-Et7bc",
        "outputId": "3997d598-0e81-4dbf-e00c-098b2de4cab8"
      },
      "execution_count": 30,
      "outputs": [
        {
          "output_type": "execute_result",
          "data": {
            "text/plain": [
              "Text(0, 0.5, 'loss')"
            ]
          },
          "metadata": {},
          "execution_count": 30
        },
        {
          "output_type": "display_data",
          "data": {
            "image/png": "[encoded data removed]",
            "text/plain": [
              "<Figure size 432x288 with 1 Axes>"
            ]
          },
          "metadata": {
            "needs_background": "light"
          }
        }
      ]
    },
    {
      "cell_type": "markdown",
      "source": [
        "##3.  Testing"
      ],
      "metadata": {
        "id": "JQfqOatFqUlR"
      }
    },
    {
      "cell_type": "code",
      "source": [
        "x_test, t_test = np.meshgrid(\n",
        "    np.linspace(-1, 1, 200), \n",
        "    np.linspace(0, 1, 200)\n",
        ")\n",
        "#prediction\n",
        "u_pred = u.eval(m, [x_test, t_test])"
      ],
      "metadata": {
        "id": "Pnd8SEKkZ5Hs"
      },
      "execution_count": 15,
      "outputs": []
    },
    {
      "cell_type": "code",
      "source": [
        "#pcolormesh is faster than pcolor\n",
        "fig, ax = plt.subplots()\n",
        "plt.xlabel('x')\n",
        "plt.ylabel('t')\n",
        "c = ax.pcolormesh(x_test,t_test,u_pred,cmap='seismic')\n",
        "fig.colorbar(c, ax=ax)\n",
        "plt.title(\"PINN predicted values u\")\n",
        "plt.savefig('Predicted_Figure.png')\n",
        "plt.show()"
      ],
      "metadata": {
        "colab": {
          "base_uri": "https://localhost:8080/",
          "height": 294
        },
        "id": "ZE7YTOB7dXoo",
        "outputId": "b2c8d321-af98-4b9b-b8ec-c58d13a8d763"
      },
      "execution_count": 42,
      "outputs": [
        {
          "output_type": "display_data",
          "data": {
            "image/png": "[encoded data removed]",
            "text/plain": [
              "<Figure size 432x288 with 2 Axes>"
            ]
          },
          "metadata": {
            "needs_background": "light"
          }
        }
      ]
    }
  ]
}